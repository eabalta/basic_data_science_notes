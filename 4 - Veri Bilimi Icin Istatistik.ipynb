{
 "cells": [
  {
   "cell_type": "markdown",
   "metadata": {},
   "source": [
    "# Veri Bilimi için İstatistik"
   ]
  },
  {
   "cell_type": "markdown",
   "metadata": {},
   "source": [
    "## Temel İstatistik"
   ]
  },
  {
   "cell_type": "markdown",
   "metadata": {},
   "source": [
    "### Örnek Teorisi"
   ]
  },
  {
   "cell_type": "markdown",
   "metadata": {},
   "source": [
    "- Popülasyon içerisinden bu popülasyonu temsil ettiği düşünülen bir alt kümeye **örneklem** denir.\n",
    "- Belirli kurallara göre seçilir ve yansız olması gerekir.\n",
    "- Olasılıklı ve olasılıksız olarak iki türe ayrılır.\n",
    "- **Örneklem dağılımı**, birden fazla seçilen örneklemin birbirlerine göre dağılımlarına denir.\n",
    "- **Merkezi limit teoremi** büyük bir sayıda olan bağımsız ve aynı dağılım gösteren rassal değişkenlerin aritmetik ortalamasının, yaklaşık olarak normal dağılım göstereceğini ifade eden bir teoremdir."
   ]
  },
  {
   "cell_type": "markdown",
   "metadata": {},
   "source": [
    "Burada bir populasyondan örneklem seçme işlemini gerçekleştireceğiz. Bu işlemi numpy üzerinden yapacağız.<br>\n",
    "Öncelikle random modulunun her seferinde aynı sayıları üretmesi için **seed** fonksiyonuna rastgele bir sayı veriyoruz. seed fonksiyonununa aynı sayı verildiğinde random fonksiyonundan her zaman aynı sayılar üretilecektir.<br>\n",
    "Populasyon olarak 0 ile 80 yaşları arasında 10k kişiyi oluşturuyoruz. Bu populasyonun yaş ortalamasını örneklem üzerinden bulmaya çalışacağız."
   ]
  },
  {
   "cell_type": "code",
   "execution_count": 12,
   "metadata": {},
   "outputs": [
    {
     "data": {
      "text/plain": [
       "array([44, 47, 64, 67, 67,  9, 21, 36, 70, 12])"
      ]
     },
     "execution_count": 12,
     "metadata": {},
     "output_type": "execute_result"
    }
   ],
   "source": [
    "import numpy as np\n",
    "np.random.seed(0)\n",
    "pop = np.random.randint(0,80,10000)\n",
    "pop[:10]"
   ]
  },
  {
   "cell_type": "markdown",
   "metadata": {},
   "source": [
    "Örneklem seçme işini yine numpy içerisindeki random modulu altındaki **choice** fonksiyonu ile gerçekleştireceğiz."
   ]
  },
  {
   "cell_type": "code",
   "execution_count": 15,
   "metadata": {},
   "outputs": [
    {
     "data": {
      "text/plain": [
       "array([38, 12, 69, 55, 41, 14, 59, 65, 64, 66])"
      ]
     },
     "execution_count": 15,
     "metadata": {},
     "output_type": "execute_result"
    }
   ],
   "source": [
    "sample1 = np.random.choice(a=pop,size=100)\n",
    "sample1[:10]"
   ]
  },
  {
   "cell_type": "code",
   "execution_count": 16,
   "metadata": {},
   "outputs": [
    {
     "data": {
      "text/plain": [
       "39.3897"
      ]
     },
     "execution_count": 16,
     "metadata": {},
     "output_type": "execute_result"
    }
   ],
   "source": [
    "pop.mean()"
   ]
  },
  {
   "cell_type": "code",
   "execution_count": 17,
   "metadata": {},
   "outputs": [
    {
     "data": {
      "text/plain": [
       "37.03"
      ]
     },
     "execution_count": 17,
     "metadata": {},
     "output_type": "execute_result"
    }
   ],
   "source": [
    "sample1.mean()"
   ]
  },
  {
   "cell_type": "code",
   "execution_count": 18,
   "metadata": {},
   "outputs": [
    {
     "data": {
      "text/plain": [
       "0.9400934762133248"
      ]
     },
     "execution_count": 18,
     "metadata": {},
     "output_type": "execute_result"
    }
   ],
   "source": [
    "sample1.mean() / pop.mean()"
   ]
  },
  {
   "cell_type": "markdown",
   "metadata": {},
   "source": [
    "### Betimsel İstatistik"
   ]
  },
  {
   "cell_type": "markdown",
   "metadata": {},
   "source": [
    "Betimsel istatistik aşağıdaki yöntemlerden oluşmaktadır;\n",
    "* Merkezi Eğilim;\n",
    "    * Ortalama\n",
    "    * Medyan\n",
    "    * Mod\n",
    "    * Kartiller\n",
    "* Dağılım;\n",
    "    * Değişim Aralığı\n",
    "    * Standart Sapma\n",
    "    * Kovaryasyon\n",
    "    * Korelasyon"
   ]
  },
  {
   "cell_type": "markdown",
   "metadata": {},
   "source": [
    "**Kovaryans** iki değişkenin birlikte ne kadar değiştiklerinin ölçüsüdür. Kovaryans, iki rastgele değişkenin beraber değişimlerini inceleyen bir istatistiktir."
   ]
  },
  {
   "cell_type": "markdown",
   "metadata": {},
   "source": [
    "**Korelasyon**, iki değişken arasındaki ilişkiyi, ilişkinin anlamlı olup olmadığını, ilişkinin şiddetini ve yönünü ifade eden bir istatistiksel tekniktir."
   ]
  },
  {
   "cell_type": "code",
   "execution_count": 19,
   "metadata": {
    "collapsed": true,
    "jupyter": {
     "outputs_hidden": true
    }
   },
   "outputs": [
    {
     "name": "stdout",
     "output_type": "stream",
     "text": [
      "Collecting researchpy\n",
      "  Downloading researchpy-0.2.3-py3-none-any.whl (10 kB)\n",
      "Requirement already satisfied: scipy in c:\\users\\ea\\anaconda3\\lib\\site-packages (from researchpy) (1.5.2)\n",
      "Requirement already satisfied: statsmodels in c:\\users\\ea\\anaconda3\\lib\\site-packages (from researchpy) (0.12.0)\n",
      "Requirement already satisfied: pandas in c:\\users\\ea\\anaconda3\\lib\\site-packages (from researchpy) (1.1.3)\n",
      "Requirement already satisfied: numpy in c:\\users\\ea\\anaconda3\\lib\\site-packages (from researchpy) (1.19.2)\n",
      "Requirement already satisfied: patsy>=0.5 in c:\\users\\ea\\anaconda3\\lib\\site-packages (from statsmodels->researchpy) (0.5.1)\n",
      "Requirement already satisfied: python-dateutil>=2.7.3 in c:\\users\\ea\\anaconda3\\lib\\site-packages (from pandas->researchpy) (2.8.1)\n",
      "Requirement already satisfied: pytz>=2017.2 in c:\\users\\ea\\anaconda3\\lib\\site-packages (from pandas->researchpy) (2020.1)\n",
      "Requirement already satisfied: six in c:\\users\\ea\\anaconda3\\lib\\site-packages (from patsy>=0.5->statsmodels->researchpy) (1.15.0)\n",
      "Installing collected packages: researchpy\n",
      "Successfully installed researchpy-0.2.3\n"
     ]
    }
   ],
   "source": [
    "!pip install researchpy"
   ]
  },
  {
   "cell_type": "code",
   "execution_count": 22,
   "metadata": {},
   "outputs": [],
   "source": [
    "import seaborn as sns\n",
    "df = sns.load_dataset(\"tips\")"
   ]
  },
  {
   "cell_type": "code",
   "execution_count": 24,
   "metadata": {},
   "outputs": [
    {
     "name": "stdout",
     "output_type": "stream",
     "text": [
      "\n",
      "\n"
     ]
    },
    {
     "data": {
      "text/html": [
       "<div>\n",
       "<style scoped>\n",
       "    .dataframe tbody tr th:only-of-type {\n",
       "        vertical-align: middle;\n",
       "    }\n",
       "\n",
       "    .dataframe tbody tr th {\n",
       "        vertical-align: top;\n",
       "    }\n",
       "\n",
       "    .dataframe thead th {\n",
       "        text-align: right;\n",
       "    }\n",
       "</style>\n",
       "<table border=\"1\" class=\"dataframe\">\n",
       "  <thead>\n",
       "    <tr style=\"text-align: right;\">\n",
       "      <th></th>\n",
       "      <th>Variable</th>\n",
       "      <th>N</th>\n",
       "      <th>Mean</th>\n",
       "      <th>SD</th>\n",
       "      <th>SE</th>\n",
       "      <th>95% Conf.</th>\n",
       "      <th>Interval</th>\n",
       "    </tr>\n",
       "  </thead>\n",
       "  <tbody>\n",
       "    <tr>\n",
       "      <th>0</th>\n",
       "      <td>total_bill</td>\n",
       "      <td>244.0</td>\n",
       "      <td>19.7859</td>\n",
       "      <td>8.9024</td>\n",
       "      <td>0.5699</td>\n",
       "      <td>18.6633</td>\n",
       "      <td>20.9086</td>\n",
       "    </tr>\n",
       "    <tr>\n",
       "      <th>1</th>\n",
       "      <td>tip</td>\n",
       "      <td>244.0</td>\n",
       "      <td>2.9983</td>\n",
       "      <td>1.3836</td>\n",
       "      <td>0.0886</td>\n",
       "      <td>2.8238</td>\n",
       "      <td>3.1728</td>\n",
       "    </tr>\n",
       "    <tr>\n",
       "      <th>2</th>\n",
       "      <td>size</td>\n",
       "      <td>244.0</td>\n",
       "      <td>2.5697</td>\n",
       "      <td>0.9511</td>\n",
       "      <td>0.0609</td>\n",
       "      <td>2.4497</td>\n",
       "      <td>2.6896</td>\n",
       "    </tr>\n",
       "  </tbody>\n",
       "</table>\n",
       "</div>"
      ],
      "text/plain": [
       "     Variable      N     Mean      SD      SE  95% Conf.  Interval\n",
       "0  total_bill  244.0  19.7859  8.9024  0.5699    18.6633   20.9086\n",
       "1         tip  244.0   2.9983  1.3836  0.0886     2.8238    3.1728\n",
       "2        size  244.0   2.5697  0.9511  0.0609     2.4497    2.6896"
      ]
     },
     "execution_count": 24,
     "metadata": {},
     "output_type": "execute_result"
    }
   ],
   "source": [
    "import researchpy as rp\n",
    "rp.summary_cont(df.select_dtypes([\"float64\",\"int64\"]))"
   ]
  },
  {
   "cell_type": "code",
   "execution_count": 28,
   "metadata": {},
   "outputs": [
    {
     "data": {
      "text/html": [
       "<div>\n",
       "<style scoped>\n",
       "    .dataframe tbody tr th:only-of-type {\n",
       "        vertical-align: middle;\n",
       "    }\n",
       "\n",
       "    .dataframe tbody tr th {\n",
       "        vertical-align: top;\n",
       "    }\n",
       "\n",
       "    .dataframe thead th {\n",
       "        text-align: right;\n",
       "    }\n",
       "</style>\n",
       "<table border=\"1\" class=\"dataframe\">\n",
       "  <thead>\n",
       "    <tr style=\"text-align: right;\">\n",
       "      <th></th>\n",
       "      <th>Variable</th>\n",
       "      <th>Outcome</th>\n",
       "      <th>Count</th>\n",
       "      <th>Percent</th>\n",
       "    </tr>\n",
       "  </thead>\n",
       "  <tbody>\n",
       "    <tr>\n",
       "      <th>0</th>\n",
       "      <td>sex</td>\n",
       "      <td>Male</td>\n",
       "      <td>157</td>\n",
       "      <td>64.34</td>\n",
       "    </tr>\n",
       "    <tr>\n",
       "      <th>1</th>\n",
       "      <td></td>\n",
       "      <td>Female</td>\n",
       "      <td>87</td>\n",
       "      <td>35.66</td>\n",
       "    </tr>\n",
       "    <tr>\n",
       "      <th>2</th>\n",
       "      <td>smoker</td>\n",
       "      <td>No</td>\n",
       "      <td>151</td>\n",
       "      <td>61.89</td>\n",
       "    </tr>\n",
       "    <tr>\n",
       "      <th>3</th>\n",
       "      <td></td>\n",
       "      <td>Yes</td>\n",
       "      <td>93</td>\n",
       "      <td>38.11</td>\n",
       "    </tr>\n",
       "    <tr>\n",
       "      <th>4</th>\n",
       "      <td>day</td>\n",
       "      <td>Sat</td>\n",
       "      <td>87</td>\n",
       "      <td>35.66</td>\n",
       "    </tr>\n",
       "    <tr>\n",
       "      <th>5</th>\n",
       "      <td></td>\n",
       "      <td>Sun</td>\n",
       "      <td>76</td>\n",
       "      <td>31.15</td>\n",
       "    </tr>\n",
       "    <tr>\n",
       "      <th>6</th>\n",
       "      <td></td>\n",
       "      <td>Thur</td>\n",
       "      <td>62</td>\n",
       "      <td>25.41</td>\n",
       "    </tr>\n",
       "    <tr>\n",
       "      <th>7</th>\n",
       "      <td></td>\n",
       "      <td>Fri</td>\n",
       "      <td>19</td>\n",
       "      <td>7.79</td>\n",
       "    </tr>\n",
       "    <tr>\n",
       "      <th>8</th>\n",
       "      <td>time</td>\n",
       "      <td>Dinner</td>\n",
       "      <td>176</td>\n",
       "      <td>72.13</td>\n",
       "    </tr>\n",
       "    <tr>\n",
       "      <th>9</th>\n",
       "      <td></td>\n",
       "      <td>Lunch</td>\n",
       "      <td>68</td>\n",
       "      <td>27.87</td>\n",
       "    </tr>\n",
       "  </tbody>\n",
       "</table>\n",
       "</div>"
      ],
      "text/plain": [
       "  Variable Outcome  Count  Percent\n",
       "0      sex    Male    157    64.34\n",
       "1           Female     87    35.66\n",
       "2   smoker      No    151    61.89\n",
       "3              Yes     93    38.11\n",
       "4      day     Sat     87    35.66\n",
       "5              Sun     76    31.15\n",
       "6             Thur     62    25.41\n",
       "7              Fri     19     7.79\n",
       "8     time  Dinner    176    72.13\n",
       "9            Lunch     68    27.87"
      ]
     },
     "execution_count": 28,
     "metadata": {},
     "output_type": "execute_result"
    }
   ],
   "source": [
    "rp.summary_cat(df.select_dtypes([\"category\"]))"
   ]
  },
  {
   "cell_type": "markdown",
   "metadata": {},
   "source": [
    "* Kovaryans"
   ]
  },
  {
   "cell_type": "code",
   "execution_count": 29,
   "metadata": {},
   "outputs": [
    {
     "data": {
      "text/html": [
       "<div>\n",
       "<style scoped>\n",
       "    .dataframe tbody tr th:only-of-type {\n",
       "        vertical-align: middle;\n",
       "    }\n",
       "\n",
       "    .dataframe tbody tr th {\n",
       "        vertical-align: top;\n",
       "    }\n",
       "\n",
       "    .dataframe thead th {\n",
       "        text-align: right;\n",
       "    }\n",
       "</style>\n",
       "<table border=\"1\" class=\"dataframe\">\n",
       "  <thead>\n",
       "    <tr style=\"text-align: right;\">\n",
       "      <th></th>\n",
       "      <th>tip</th>\n",
       "      <th>total_bill</th>\n",
       "    </tr>\n",
       "  </thead>\n",
       "  <tbody>\n",
       "    <tr>\n",
       "      <th>tip</th>\n",
       "      <td>1.914455</td>\n",
       "      <td>8.323502</td>\n",
       "    </tr>\n",
       "    <tr>\n",
       "      <th>total_bill</th>\n",
       "      <td>8.323502</td>\n",
       "      <td>79.252939</td>\n",
       "    </tr>\n",
       "  </tbody>\n",
       "</table>\n",
       "</div>"
      ],
      "text/plain": [
       "                 tip  total_bill\n",
       "tip         1.914455    8.323502\n",
       "total_bill  8.323502   79.252939"
      ]
     },
     "execution_count": 29,
     "metadata": {},
     "output_type": "execute_result"
    }
   ],
   "source": [
    "df[[\"tip\",\"total_bill\"]].cov()"
   ]
  },
  {
   "cell_type": "markdown",
   "metadata": {},
   "source": [
    "* Korelasyon"
   ]
  },
  {
   "cell_type": "code",
   "execution_count": 30,
   "metadata": {},
   "outputs": [
    {
     "data": {
      "text/html": [
       "<div>\n",
       "<style scoped>\n",
       "    .dataframe tbody tr th:only-of-type {\n",
       "        vertical-align: middle;\n",
       "    }\n",
       "\n",
       "    .dataframe tbody tr th {\n",
       "        vertical-align: top;\n",
       "    }\n",
       "\n",
       "    .dataframe thead th {\n",
       "        text-align: right;\n",
       "    }\n",
       "</style>\n",
       "<table border=\"1\" class=\"dataframe\">\n",
       "  <thead>\n",
       "    <tr style=\"text-align: right;\">\n",
       "      <th></th>\n",
       "      <th>tip</th>\n",
       "      <th>total_bill</th>\n",
       "    </tr>\n",
       "  </thead>\n",
       "  <tbody>\n",
       "    <tr>\n",
       "      <th>tip</th>\n",
       "      <td>1.000000</td>\n",
       "      <td>0.675734</td>\n",
       "    </tr>\n",
       "    <tr>\n",
       "      <th>total_bill</th>\n",
       "      <td>0.675734</td>\n",
       "      <td>1.000000</td>\n",
       "    </tr>\n",
       "  </tbody>\n",
       "</table>\n",
       "</div>"
      ],
      "text/plain": [
       "                 tip  total_bill\n",
       "tip         1.000000    0.675734\n",
       "total_bill  0.675734    1.000000"
      ]
     },
     "execution_count": 30,
     "metadata": {},
     "output_type": "execute_result"
    }
   ],
   "source": [
    "df[[\"tip\",\"total_bill\"]].corr()"
   ]
  },
  {
   "cell_type": "code",
   "execution_count": 33,
   "metadata": {},
   "outputs": [
    {
     "data": {
      "image/png": "[encoded data removed]",
      "text/plain": [
       "<Figure size 360x360 with 1 Axes>"
      ]
     },
     "metadata": {
      "needs_background": "light"
     },
     "output_type": "display_data"
    }
   ],
   "source": [
    "sns.lmplot(x=\"tip\",y=\"total_bill\",data=df);"
   ]
  },
  {
   "cell_type": "markdown",
   "metadata": {},
   "source": [
    "### Güven Aralıkları"
   ]
  },
  {
   "cell_type": "markdown",
   "metadata": {},
   "source": [
    "* Güven aralığı, istatistik biliminde bir anakütle parametresi için bir çeşit aralık kestirimi olup bir çıkarımsal istatistik çözüm aracıdır. Bir anakütle parametre değerinin tek bir sayı ile kestirimi yapılacağına, bu parametre değerini kapsayabilecek iki (alt ve üst sınır) sayıdan oluşan bir aralık bulunur. Böylece güven aralıkları bir kestirimin ne kadar güvenilir olduğunu gösterir.\n",
    "* Anakütle parametresinin tahmini değerini kapsayabilecek iki sayıdan oluşan bir aralık bulunmasıdır.\n",
    "* Genelde 95% güven aralığı seçilmektedir.\n",
    "* Hesaplanırken n(birim sayısı), ortalama ve standart sapma kullanılmaktadır."
   ]
  },
  {
   "cell_type": "markdown",
   "metadata": {},
   "source": [
    "* Problem : \n",
    "    * CEO fiyat belirleme konusunda bilimsel bir dayanak ve esneklik istiyor.\n",
    "\n",
    "* Detaylar:\n",
    "    * Satıcı,alıcı ve bir ürün bulunmakta\n",
    "    * Alıcılara ürüne ne kadar ücret öderdiniz diye soruluyor ve alıcılar birbirlerinin cevaplarından habersiz tutuluyor\n",
    "    * Optimum fiyat bilimsel ve esnek olarak bulunmak isteniyor."
   ]
  },
  {
   "cell_type": "markdown",
   "metadata": {},
   "source": [
    "Fiyatları müşterilerden toplamış gibi varsayarak 5 ila 200 arasında 1000 gözlem oluşturuyoruz."
   ]
  },
  {
   "cell_type": "code",
   "execution_count": 35,
   "metadata": {},
   "outputs": [],
   "source": [
    "prices = np.random.randint(5,200,1000)"
   ]
  },
  {
   "cell_type": "markdown",
   "metadata": {},
   "source": [
    "Bilimsel bir dayanağa göre fiyat belirlenmek sitenildiğinde en basit ve efektif yol ortalamayı almaktır. Fakat bu esneklik sağlamamaktadır."
   ]
  },
  {
   "cell_type": "code",
   "execution_count": 36,
   "metadata": {},
   "outputs": [
    {
     "data": {
      "text/plain": [
       "102.61"
      ]
     },
     "execution_count": 36,
     "metadata": {},
     "output_type": "execute_result"
    }
   ],
   "source": [
    "prices.mean()"
   ]
  },
  {
   "cell_type": "markdown",
   "metadata": {},
   "source": [
    "Burada esnekliği sağlayacak olan yöntem güven aralığıdır.<br>\n",
    "**Güven aralığı hesaplamak için alttaki yolu izleriz.**"
   ]
  },
  {
   "cell_type": "code",
   "execution_count": 37,
   "metadata": {},
   "outputs": [
    {
     "data": {
      "text/plain": [
       "(99.14589303185839, 106.0741069681416)"
      ]
     },
     "execution_count": 37,
     "metadata": {},
     "output_type": "execute_result"
    }
   ],
   "source": [
    "import statsmodels.stats.api as sms\n",
    "sms.DescrStatsW(prices).tconfint_mean()"
   ]
  },
  {
   "cell_type": "markdown",
   "metadata": {},
   "source": [
    "Sonuç olarak 95% güven aralığıyla müşteriler 99 ila 106 lira arasında fiyat ödeyeceklerdir.\n",
    "Kısacası 100 müşteriden 95inin ödeyeceği fiyat 99 ila 106 arasında olacaktır."
   ]
  },
  {
   "cell_type": "markdown",
   "metadata": {},
   "source": [
    "## Olasılığa Giriş"
   ]
  },
  {
   "cell_type": "markdown",
   "metadata": {},
   "source": [
    "* Olasılık, olayların olabilirliğinin sayısal ifadesidir.\n",
    "* Rassal değişken, değerlerini bir deneyin sonucundan alan değişkenlere denir.\n",
    "* Dağılım, evrendeki gerçekleşen olayların veya durumların sayısal karşılıklarının ortaya çıkardığı yapıya denir.\n",
    "* Olasılık dağılımı, bir rassal olaya ait değerler ve bu değerlerinin gerçekleşme olasılıklarının bir arade ifade edilmesine denir.\n",
    "* Olasılık fonksiyonu, bir değişkenin herhangi bir değeri alması olasılığını hesaplamaya yarayan fonksiyondur.\n",
    "* Olasılık Dağılımları :\n",
    "    * Kesikli Olasılık Dağılımları\n",
    "        * Bernoulli\n",
    "        * Binom\n",
    "        * Poisson\n",
    "    * Sürekli Olasılık Dağılımları\n",
    "        * Normal Dağılım\n",
    "        * Uniform Dağılım\n",
    "        * Üstel Dağılım"
   ]
  },
  {
   "cell_type": "markdown",
   "metadata": {},
   "source": [
    "* #### Bernoulli Dağılımı"
   ]
  },
  {
   "cell_type": "markdown",
   "metadata": {},
   "source": [
    "Başarılı-başarısız, olumlu-olumsuz şeklindeki binary olaylar ile ilgilenildiğinde kullanılan kesikli olasılık dağılımıdır."
   ]
  },
  {
   "cell_type": "markdown",
   "metadata": {},
   "source": [
    "$f(x;p) = p^x(1-p)^{1-x}$<br>\n",
    "$x \\in \\{0,1\\}$<br>\n",
    "$E(X) = p$<br>\n",
    "$Var(X) = pq = p(1-p)$<br>"
   ]
  },
  {
   "cell_type": "markdown",
   "metadata": {},
   "source": [
    "Bernoulli dağılımını hesaplarken aradığımız değerin olasılığını bernoulli fonksiyonu içerisine verilir.<br>\n",
    "Daha sonra Probability Mass Function üzerinden hangi değeri arıyorsak k parametresine vererek sonucu buluruz."
   ]
  },
  {
   "cell_type": "code",
   "execution_count": 3,
   "metadata": {},
   "outputs": [
    {
     "data": {
      "text/plain": [
       "0.634"
      ]
     },
     "execution_count": 3,
     "metadata": {},
     "output_type": "execute_result"
    }
   ],
   "source": [
    "from scipy.stats import bernoulli\n",
    "\n",
    "p = 0.634\n",
    "rv = bernoulli(p)\n",
    "rv.pmf(k = 1)"
   ]
  },
  {
   "cell_type": "code",
   "execution_count": 4,
   "metadata": {},
   "outputs": [
    {
     "data": {
      "text/plain": [
       "0.36600000000000005"
      ]
     },
     "execution_count": 4,
     "metadata": {},
     "output_type": "execute_result"
    }
   ],
   "source": [
    "rv.pmf(k = 0)"
   ]
  },
  {
   "cell_type": "markdown",
   "metadata": {},
   "source": [
    "### Büyük Sayılar Yasası"
   ]
  },
  {
   "cell_type": "markdown",
   "metadata": {},
   "source": [
    "Bir rassal değişkenin uzun vadeli kararlılığını belirleyen olasılık teoremidir.<br>\n",
    "Büyük sayılar kanunu ya da büyük sayılar yasası, bir rassal değişkenin uzun vadeli kararlılığını tanımlayan bir olasılık teoremidir. Sonlu bir beklenen değere sahip birbirinden bağımsız ve eşit dağılıma sahip bir rassal değişkenler örneklemi verildiğinde, bu gözlemlerin ortalaması sonuçta bu beklenen değere yakınsayacak ve bu değere yakın bir seyir izleyecektir.<br>\n",
    "\n",
    "Bir örnek olarak madeni para atılması olabilir. Bir madeni paranın peş peşe atılması durumunda, yazıların (ya da turaların) sıklığı, gözlem sayısı arttıkça, %50'e gittikçe yaklaşacaktır. Fakat yazı ve tura sayıları arasındaki mutlak fark atış sayısı arttıkça açılacaktır. Örneğin, 1000 atıştan sonra 520 ve 10000 atıştan sonra 5096 yazı görebiliriz. Ortalama ,52'den ,5096'ya gittiği, gerçek %50'ye yaklaştığı halde, ortalamadan toplam fark 40'tan 192'ye yükselmiştir.<br>\n",
    "\n",
    "Büyük sayılar yasası önemlidir, çünkü rastgele olaylardan kararlı uzun-vadeli sonuçlar alınacağını \"garanti eder\". Örneğin, bir gazino tek bir Amerikan Rulet dönüşünden para kaybedebilir, ama 1000lerce dönüşe oynanan paranın tamamının %5,3'üne yakınını neredeyse kesin olarak kazanacaktır. Bir oyuncunun herhangi bir kazancı, sonuçta oyunun başlıca parametreleri tarafından soğurulacaktır. Büyük sayılar yasasının büyük sayıda gözlem yapıldığı zaman etkili olacağı unutulmamalıdır. Küçük miktardaki gözlem için sonucun beklenen değere yaklaşacağını veya bir sapmanın hemen bir başkasıyla \"dengeleneceğini\" beklemek için bir neden yoktur."
   ]
  },
  {
   "cell_type": "code",
   "execution_count": 18,
   "metadata": {
    "collapsed": true,
    "jupyter": {
     "outputs_hidden": true
    }
   },
   "outputs": [
    {
     "name": "stdout",
     "output_type": "stream",
     "text": [
      "Deney Sayisi :  2  Tura Orani : 50.00\n",
      "Deney Sayisi :  4  Tura Orani : 75.00\n",
      "Deney Sayisi :  8  Tura Orani : 75.00\n",
      "Deney Sayisi :  16  Tura Orani : 43.75\n",
      "Deney Sayisi :  32  Tura Orani : 62.50\n",
      "Deney Sayisi :  64  Tura Orani : 48.44\n",
      "Deney Sayisi :  128  Tura Orani : 46.09\n",
      "Deney Sayisi :  256  Tura Orani : 54.69\n",
      "Deney Sayisi :  512  Tura Orani : 48.24\n",
      "Deney Sayisi :  1024  Tura Orani : 51.46\n",
      "Deney Sayisi :  2048  Tura Orani : 51.17\n",
      "Deney Sayisi :  4096  Tura Orani : 50.24\n",
      "Deney Sayisi :  8192  Tura Orani : 50.59\n",
      "Deney Sayisi :  16384  Tura Orani : 49.55\n",
      "Deney Sayisi :  32768  Tura Orani : 49.84\n",
      "Deney Sayisi :  65536  Tura Orani : 50.06\n",
      "Deney Sayisi :  131072  Tura Orani : 50.20\n",
      "Deney Sayisi :  262144  Tura Orani : 49.87\n",
      "Deney Sayisi :  524288  Tura Orani : 49.87\n",
      "Deney Sayisi :  1048576  Tura Orani : 49.96\n",
      "Deney Sayisi :  2097152  Tura Orani : 50.03\n",
      "Deney Sayisi :  4194304  Tura Orani : 49.97\n",
      "Deney Sayisi :  8388608  Tura Orani : 50.03\n",
      "Deney Sayisi :  16777216  Tura Orani : 50.02\n",
      "Deney Sayisi :  33554432  Tura Orani : 50.00\n",
      "Deney Sayisi :  67108864  Tura Orani : 50.02\n",
      "Deney Sayisi :  134217728  Tura Orani : 50.00\n",
      "Deney Sayisi :  268435456  Tura Orani : 50.00\n",
      "Deney Sayisi :  536870912  Tura Orani : 50.00\n",
      "Deney Sayisi :  1073741824  Tura Orani : 50.00\n"
     ]
    }
   ],
   "source": [
    "# Örnekleme olarak yazı turayı gerçekleştirelim.\n",
    "import numpy as np\n",
    "generator = np.random.RandomState(0)\n",
    "for i in range(1,31):\n",
    "    deney_sayisi = 2**i\n",
    "    ornekler = generator.randint(0,2,deney_sayisi)\n",
    "    tura_orani = ornekler.mean()\n",
    "    print(\"Deney Sayisi : \",deney_sayisi,\" Tura Orani : %.2f\" % (tura_orani * 100))"
   ]
  },
  {
   "cell_type": "markdown",
   "metadata": {},
   "source": [
    "* #### Binom Dağılımı"
   ]
  },
  {
   "cell_type": "markdown",
   "metadata": {},
   "source": [
    "Bağımsız n deneme sonucu, k başarılı olma olasılığı ile ilgilenildiğinde kullanılan dağılımdır.<br>\n",
    "Olasılık kuramı ve istatistik bilim kollarında, binom dağılımı n sayıda iki kategori (yani başarı/başarısızlık, evet/hayır, 1/0 vb) sonucu veren denemelere uygulanır. Araştırıcının ilgi gösterdiği kategori başarı olarak adlandırılır. Bu türlü her bir deneyde, bağımsız olarak, başarı (=evet=1) olasılığının p olduğu (ve yalnızca iki kategori sonuç mümkün olduğu için başarısızlık olasılığının 1 - p olduğu) bilinir. Bu türlü bağımsız n sayıda denemeler serisi içinde elde edilen başarı sayısının ayrık olasılık dağılımı binom dağılım olarak tanımlanır. Bir binom dağılım sadece iki parametre ile, yani n ve p, ile tam olarak tanımlanır.<br>"
   ]
  },
  {
   "cell_type": "markdown",
   "metadata": {},
   "source": [
    "$f(k;n,p) = \\binom{n}{k}p^k(1-p)^{n-k}$<br>\n",
    "$ k \\in \\{0,...,n\\}$<br>\n",
    "$n \\geq 0$<br>\n",
    "$E(X) = np$<br>\n",
    "$Var(X) = np(1-p)$"
   ]
  },
  {
   "cell_type": "markdown",
   "metadata": {},
   "source": [
    "Basit bir örnek olarak ; bir madeni para 4 kere atılıyor 2 kere yazı gelme olasılığı nedir?<br>\n",
    "$f(2;4,0.5) = \\binom{4}{2}(0.5)^2(1-0.5)^{4-2} = 0.375$<br>"
   ]
  },
  {
   "cell_type": "code",
   "execution_count": 21,
   "metadata": {},
   "outputs": [
    {
     "name": "stdout",
     "output_type": "stream",
     "text": [
      "0.36972963764971983\n",
      "0.0028977871237616114\n"
     ]
    }
   ],
   "source": [
    "# Bir reklama tıklanma oranı 0.01, 100 kişiden 1 ve 5 kişinin reklamı tıklama olasılığı nedir?\n",
    "from scipy.stats import binom\n",
    "p = 0.01\n",
    "n = 100\n",
    "rv = binom(n,p)\n",
    "print(rv.pmf(1))\n",
    "print(rv.pmf(5))"
   ]
  },
  {
   "cell_type": "markdown",
   "metadata": {},
   "source": [
    "* #### Poisson Dağılımı"
   ]
  },
  {
   "cell_type": "markdown",
   "metadata": {},
   "source": [
    "Belirli bir zaman aralığında, belirli alanda nadiren rastlanan olayların olasılıklarını hesaplamak için kullanılır.<br>\n",
    "$f(x,\\lambda) = \\lambda^xe^{-\\lambda} / x!$<br>\n",
    "$x = 0,1,2,...,n$<br>\n",
    "$E(X) = \\lambda$<br>\n",
    "$Var(X) = \\lambda$"
   ]
  },
  {
   "cell_type": "markdown",
   "metadata": {},
   "source": [
    "Örnek verilebilecek olaylar;\n",
    "* 10 bin kelimeden oluşan bir kitaptaki hatalı kelime sayısı\n",
    "* 4k öğrencili okulda not girişinde hata yapılması\n",
    "* Bir iş gününde çağrı merkezine gelen taktir sayısı"
   ]
  },
  {
   "cell_type": "markdown",
   "metadata": {},
   "source": [
    "Poisson dağılımını;\n",
    "* n büyük\n",
    "* p küçük\n",
    "olduğu zamanlarda kullanılır."
   ]
  },
  {
   "cell_type": "markdown",
   "metadata": {},
   "source": [
    "Bir olayın nadir olay kabul edilebilmesi için;\n",
    "* n > 50\n",
    "* n*p < 5 \n",
    "ise bu duruma nadir olay yorumu yapılır."
   ]
  },
  {
   "cell_type": "markdown",
   "metadata": {},
   "source": [
    "* Rassal denemeler iki sonuçlu olmalıdır.\n",
    "* Aynı koşullar altında gerçekleştirilmelidir.\n",
    "* Rassal denemeler birbirinden bağımsız olmalıdır."
   ]
  },
  {
   "cell_type": "code",
   "execution_count": 26,
   "metadata": {},
   "outputs": [
    {
     "name": "stdout",
     "output_type": "stream",
     "text": [
      "0.9048374180359595\n",
      "0.00015080623633932676\n"
     ]
    }
   ],
   "source": [
    "# İlan sitesinde 1 yıl boyunca hata değerleri hesaplanmış ve lambda 0.1 bulunmuştur. Hiç hata olmama ve 3 kez hata olma durumlarını bulunuz.\n",
    "from scipy.stats import poisson\n",
    "lambda_ = 0.1\n",
    "rv = poisson(mu = lambda_)\n",
    "print(rv.pmf(0))\n",
    "print(rv.pmf(3))"
   ]
  },
  {
   "cell_type": "markdown",
   "metadata": {},
   "source": [
    "* #### Normal Dağılım"
   ]
  },
  {
   "cell_type": "markdown",
   "metadata": {},
   "source": [
    "Normal dağılım, aynı zamanda Gauss dağılımı veya Gauss tipi dağılım olarak isimlendirilen, birçok alanda pratik uygulaması olan, çok önemli bir sürekli olasılık dağılım ailesidir.<br>\n",
    "\n",
    "Bu dağılım ailesinin her bir üyesi sadece iki parametreyle tam olarak tanımlanabilir: Bunlar konum gösteren ortalama (μ, aritmetik ortalama) ve ölçek gösteren varyans (σ2, \"yayılım\")dır.<br>\n",
    "\n",
    "Normal dağıldığı bilinen sürekli rassal değişkenler için olasılık hesaplaması için kullanacağız."
   ]
  },
  {
   "cell_type": "markdown",
   "metadata": {},
   "source": [
    "$f(x|\\mu,\\sigma^2) = \\dfrac{1}{\\sqrt{2\\pi\\sigma^2}} e^{-\\dfrac{{(x-\\mu)}^2}{2\\sigma^2}}$"
   ]
  },
  {
   "cell_type": "markdown",
   "metadata": {},
   "source": [
    "Örnek olarak yıllık satış ortalamasının 80K olduğu firmada gelecek yıl için tahminler yapılıyor.<br>\n",
    "80K ortalama, 5 Standart Sapma değeri ve noraml bir dağılım gösterildiği biliniyor.\n",
    "* 90K'dan fazla satış yapma\n",
    "* 70K'dan fazla satış yapma\n",
    "* 73K'dan az satış yapma\n",
    "* 90 ila 85K arası satış yapma olasılıkları nelerdir?"
   ]
  },
  {
   "cell_type": "markdown",
   "metadata": {},
   "source": [
    "Burada cdf fonksiyonu Cumulative Density Function'dır. Normal dağılımda eğrinin altında kalan alan bize olasılığı verdiği için integral alarak değerlerimizi bulmaktayız. Bu sonuç sürekli bir alanı temsil ettiği için cdf fonksiyonu kullanılır."
   ]
  },
  {
   "cell_type": "code",
   "execution_count": 28,
   "metadata": {},
   "outputs": [
    {
     "data": {
      "text/plain": [
       "0.02275013194817921"
      ]
     },
     "execution_count": 28,
     "metadata": {},
     "output_type": "execute_result"
    }
   ],
   "source": [
    "from scipy.stats import norm\n",
    "1 - norm.cdf(90,80,5)"
   ]
  },
  {
   "cell_type": "markdown",
   "metadata": {},
   "source": [
    "Normal dağılım fonksiyonunu kullanırken cdf'ye parametre olarak sırasıyla **beklenen değer,ortalama ve standart sapma** verilir."
   ]
  },
  {
   "attachments": {
    "d3e8eda2-e86b-4b47-8ce3-9aeb700c32ee.png": {
     "image/png": "[encoded data removed]"
    }
   },
   "cell_type": "markdown",
   "metadata": {},
   "source": [
    "![image.png](attachment:d3e8eda2-e86b-4b47-8ce3-9aeb700c32ee.png)"
   ]
  },
  {
   "cell_type": "code",
   "execution_count": 29,
   "metadata": {},
   "outputs": [
    {
     "data": {
      "text/plain": [
       "0.9772498680518208"
      ]
     },
     "execution_count": 29,
     "metadata": {},
     "output_type": "execute_result"
    }
   ],
   "source": [
    "1- norm.cdf(70,80,5)"
   ]
  },
  {
   "attachments": {
    "2b63e905-8cfb-45c1-b5ff-43128fca3f4d.png": {
     "image/png": "[encoded data removed]"
    }
   },
   "cell_type": "markdown",
   "metadata": {},
   "source": [
    "![image.png](attachment:2b63e905-8cfb-45c1-b5ff-43128fca3f4d.png)"
   ]
  },
  {
   "cell_type": "code",
   "execution_count": 30,
   "metadata": {},
   "outputs": [
    {
     "data": {
      "text/plain": [
       "0.08075665923377107"
      ]
     },
     "execution_count": 30,
     "metadata": {},
     "output_type": "execute_result"
    }
   ],
   "source": [
    "norm.cdf(73,80,5)"
   ]
  },
  {
   "cell_type": "code",
   "execution_count": 32,
   "metadata": {},
   "outputs": [
    {
     "data": {
      "text/plain": [
       "0.13590512198327787"
      ]
     },
     "execution_count": 32,
     "metadata": {},
     "output_type": "execute_result"
    }
   ],
   "source": [
    "norm.cdf(90,80,5) - norm.cdf(85,80,5)"
   ]
  },
  {
   "cell_type": "markdown",
   "metadata": {},
   "source": [
    "## Hipotez Testleri"
   ]
  },
  {
   "cell_type": "markdown",
   "metadata": {},
   "source": [
    "* Populasyonun parametreleri( $\\mu$ (Ortalama), $\\sigma$ (Standart Sapma), $\\sigma^2$ (Varyans), $p$ (Oran)) ile ilgili herhangi bir iddia atıldığında bu iddianın doğruluğu hipotez testi ile test edilir.\n",
    "* Hipoteztinin amacı populasyon parametreleriyle iligili ortaya atılmış bir iddianın doğruluğunu örneklem verilerini kullanarak belirlemektir."
   ]
  },
  {
   "cell_type": "markdown",
   "metadata": {},
   "source": [
    "#### Sıfır ve Alternatif Hipotez"
   ]
  },
  {
   "cell_type": "markdown",
   "metadata": {},
   "source": [
    "* Populasyon üzerine bir **iddia** atılır.\n",
    "* Bu iddia üzerinden iki adet hipotez oluşturulur. Bunlar $H_0$ Sıfır Hipotezi, $H_1$ Alternatif hipotezdir.\n",
    "* $H_1$ hipotezi\n",
    "    * Daima populasyon üzerine atılan iddiayı içermelidir.\n",
    "    * Örneklemden elde edilen değer ile populasyonun bilinen değeri arasında fark yoktur anlamı taşımaktadır.\n",
    "* $H_0$ hipotezi\n",
    "    * Daima iddia içerisinde geçen sayıya eşit olmalıdır.\n",
    "    * Örneklemden elde edilen değer ile populasyonun bilinen değeri arasında önemli bir fark vardır anlamı taşımaktadır."
   ]
  },
  {
   "cell_type": "markdown",
   "metadata": {},
   "source": [
    "İddia : bir populasyonun ortalaması 5'ten küçüktür.\n",
    "* $H_0$ için $\\mu = 5$\n",
    "* $H_1$ için $\\mu < 5$"
   ]
  },
  {
   "cell_type": "markdown",
   "metadata": {},
   "source": [
    "Burada oluşturulan iddialar populasyon üzerinedir, bu sebeple $H_0$ ve $H_1$ hipotezlerinin karşısında mutlaka ve mutlaka populasyon parametrelerini göreceğiz.\n",
    "**Örneklem parametreleriyle kesinlikle hipotez oluşturulmaz**"
   ]
  },
  {
   "cell_type": "markdown",
   "metadata": {},
   "source": [
    "Hipotez testinde, bir hipotez ile onun karşıtı olan hipotezden hangisinin örneklemden elde edilen sonuçlar ile daha iyi bağdaştığı araştırılmaktadır."
   ]
  },
  {
   "cell_type": "markdown",
   "metadata": {},
   "source": [
    "#### Hipotezlerin Kuruluşu"
   ]
  },
  {
   "cell_type": "markdown",
   "metadata": {},
   "source": [
    "$\\mu_0$ soruda verilen değerdir.\n",
    "* 1.çeşit\n",
    "    * $H_0 : \\mu = \\mu_0$\n",
    "    * $H_1 : \\mu \\neq \\mu_0$\n",
    "    * Çift Taraflıdır\n",
    "* 2.çeşit\n",
    "    * $H_0 : \\mu = \\mu_0$\n",
    "    * $H_1 : \\mu > \\mu_0$\n",
    "    * Tek Taraflıdır\n",
    "* 3.çeşit\n",
    "    * $H_0 : \\mu = \\mu_0$\n",
    "    * $H_1 : \\mu < \\mu_0$\n",
    "    * Tek Taraflıdır"
   ]
  },
  {
   "cell_type": "markdown",
   "metadata": {},
   "source": [
    "* Bir hastalıkta ortalama iyileşme süresinin 10 günden az olduğu iddia ediliyor.<br>\n",
    "$H_0 : \\mu = 10$<br>\n",
    "$H_1 : \\mu < 10$<br>"
   ]
  },
  {
   "cell_type": "markdown",
   "metadata": {},
   "source": [
    "#### Anlamlılık Düzeyi (Significance Level)"
   ]
  },
  {
   "cell_type": "markdown",
   "metadata": {},
   "source": [
    "* Anlamlılık düzeyi bize hipotez testinin kalitesini göstermektedir.\n",
    "* $\\alpha$ ile temsil edilmektedir.\n",
    "* $\\alpha$ değeri genelde %5 olarak alınır. Bu değer arttıkça hipotezin kalitesi düşer ve zorlama olarak görülür. Bu değer küçüldükçe hipotezin doğruluk yüzdesi artar.\n",
    "* Bu değer kritik bölgeyi ve kritik değeri bulurken bize yardımcı olur.\n",
    "* %95 güven düzeyi deniyorsa $\\alpha$ değerimiz %5 olmaktadır."
   ]
  },
  {
   "cell_type": "markdown",
   "metadata": {},
   "source": [
    "#### Kritik Bölge"
   ]
  },
  {
   "cell_type": "markdown",
   "metadata": {},
   "source": [
    "* Anlamlılık düzeyinden elde edilir.\n",
    "* Ret bölgesi olarak da söylenebilir.\n",
    "* $H_0$ hipotezinin reddedildiği bölgedir.\n",
    "* 3 çeşidi vardır. Bu farklılığı hipotez testinin kuruluşundan farklılık oluşturulur."
   ]
  },
  {
   "attachments": {
    "0c673704-601f-4cba-ae08-c2b252d4c8fb.png": {
     "image/png": "[encoded data removed]"
    },
    "96470f4b-c592-4fff-8f24-82cc90619b69.png": {
     "image/png": "[encoded data removed]"
    },
    "bdb7211f-1354-498d-a3d8-89bbde0eeca4.png": {
     "image/png": "[encoded data removed]"
    }
   },
   "cell_type": "markdown",
   "metadata": {},
   "source": [
    "$\\alpha = 0,05$\n",
    "* 1.çeşit:\n",
    "    * $H_0 : \\mu = 10$<br>\n",
    "    * $H_1 : \\mu < 10$<br>\n",
    "    * ![image.png](attachment:bdb7211f-1354-498d-a3d8-89bbde0eeca4.png)\n",
    "    \n",
    "* 2.çeşit:\n",
    "    * $H_0 : \\mu = 10$<br>\n",
    "    * $H_1 : \\mu > 10$<br>\n",
    "    * ![image.png](attachment:96470f4b-c592-4fff-8f24-82cc90619b69.png)\n",
    "    \n",
    "* 3.çeşit:\n",
    "    * $H_0 : \\mu = 10$<br>\n",
    "    * $H_1 : \\mu \\neq 10$<br>\n",
    "    * ![image.png](attachment:0c673704-601f-4cba-ae08-c2b252d4c8fb.png)"
   ]
  },
  {
   "cell_type": "markdown",
   "metadata": {},
   "source": [
    "#### Kritik Değer"
   ]
  },
  {
   "cell_type": "markdown",
   "metadata": {},
   "source": [
    "* Hipotez testinde kritik bölgesini(ret bölgesi) kabul bölgesinden ayıran değere denir.\n",
    "* 4 adet örneklem dağılımından biri ile hesaplanır. Bunlar;\n",
    "    * $z, t, \\chi^2, F$ tablolarından bulunur."
   ]
  },
  {
   "cell_type": "markdown",
   "metadata": {},
   "source": [
    "#### Test İstatistiği"
   ]
  },
  {
   "cell_type": "markdown",
   "metadata": {},
   "source": [
    "* Hangi dağılım kullanılacağı belirlenmelidir.\n",
    "* 4 adet tablonun her birinde farklı bir formüle sahiptir.\n",
    "* Örnek olarak $z_{test} = \\dfrac{x-\\mu}{\\dfrac{\\sigma}{\\sqrt{n}}} $\n",
    "* Eğer $z_{test}$ değeri ret bölgesinin içine düşerse $H_0$ hipotezi ret edilir. $H_1$ hipotezi kabul edilir.\n",
    "* Eğer $z_{test}$ değeri kabul bölgesinin içine düşerse $H_0$ hipotezi not rejected olur. $H_1$ hipotezi hatalı, hpotezi yeni koşullarda tekrardan oluşturmak gerekir."
   ]
  },
  {
   "cell_type": "markdown",
   "metadata": {},
   "source": [
    "#### Type I and II Error"
   ]
  },
  {
   "cell_type": "code",
   "execution_count": 15,
   "metadata": {},
   "outputs": [
    {
     "data": {
      "text/html": [
       "<div>\n",
       "<style scoped>\n",
       "    .dataframe tbody tr th:only-of-type {\n",
       "        vertical-align: middle;\n",
       "    }\n",
       "\n",
       "    .dataframe tbody tr th {\n",
       "        vertical-align: top;\n",
       "    }\n",
       "\n",
       "    .dataframe thead th {\n",
       "        text-align: right;\n",
       "    }\n",
       "</style>\n",
       "<table border=\"1\" class=\"dataframe\">\n",
       "  <thead>\n",
       "    <tr style=\"text-align: right;\">\n",
       "      <th></th>\n",
       "      <th>$H_0$ Doğru</th>\n",
       "      <th>$H_0$ Yanlış</th>\n",
       "    </tr>\n",
       "  </thead>\n",
       "  <tbody>\n",
       "    <tr>\n",
       "      <th>$H_0$ Red</th>\n",
       "      <td>I.Tip Hata</td>\n",
       "      <td>Doğru Karar</td>\n",
       "    </tr>\n",
       "    <tr>\n",
       "      <th>$H_0$ Kabul</th>\n",
       "      <td>Doğru Karar</td>\n",
       "      <td>II.Tip Hata</td>\n",
       "    </tr>\n",
       "  </tbody>\n",
       "</table>\n",
       "</div>"
      ],
      "text/plain": [
       "             $H_0$ Doğru $H_0$ Yanlış\n",
       "$H_0$ Red     I.Tip Hata  Doğru Karar\n",
       "$H_0$ Kabul  Doğru Karar  II.Tip Hata"
      ]
     },
     "execution_count": 15,
     "metadata": {},
     "output_type": "execute_result"
    }
   ],
   "source": [
    "import pandas as pd\n",
    "pd.DataFrame([[\"I.Tip Hata\",\"Doğru Karar\"],[\"Doğru Karar\",\"II.Tip Hata\"]],columns=[\"$H_0$ Doğru\",\"$H_0$ Yanlış\"], index=[\"$H_0$ Red\",\"$H_0$ Kabul\"])"
   ]
  },
  {
   "cell_type": "markdown",
   "metadata": {},
   "source": [
    "* Satırlar **Test Sonucu**, Sütünlar ise **Gerçek Durumu** temsil etmektedir.\n",
    "* P(1.Tip Hata) = $\\alpha$ yani 1.tip hatanın oluşma olasılığı anlamlılık düzeyine eşittir.\n",
    "* P(2.Tip Hata) = $\\beta$ yani $\\beta$ kabul bölgesine düşmüştür."
   ]
  },
  {
   "cell_type": "markdown",
   "metadata": {},
   "source": [
    "#### Hipotez Testinin Gücü"
   ]
  },
  {
   "cell_type": "markdown",
   "metadata": {},
   "source": [
    "* $H_0$ hipotezi yanlış iken onun reddedilmesi olasılığı testin gücüdür.\n",
    "* Araştırmamızda **doğru karar** verme olasılığımızdır.\n",
    "* $1-\\beta$ ile hesaplanır."
   ]
  },
  {
   "cell_type": "markdown",
   "metadata": {},
   "source": [
    "#### Hipotez Testinin Uygulanma Adımları"
   ]
  },
  {
   "cell_type": "markdown",
   "metadata": {},
   "source": [
    "* **1.adım :** Hipotezler oluşturulmalıdır. $H_0$ , $H_1$\n",
    "* **2.adım :** Anlamlılık düzeyi $\\alpha$ belirlenmeli ve hipotezlerin kuruluşuna göre ret bölgesi ve kabul bölgesi çizimi yapılmalıdır.\n",
    "* **3.adım :** Örneklem dağılımının belirlenmesi, hangi tabloyu kullanacağımızı belirleyeceğiz. $z, t, \\chi^2, F$\n",
    "* **4.adım :** Bu örneklem dağılımından Kritik Değer elde edilmeli ve dolayısıyla ret bölgesi belirlenmelidir.\n",
    "* **5.adım :** Test istatistiği hesaplanmalıdır. Her bir örneklem dağılımında farklı formüle sahiptir.\n",
    "* **6.adım :** Kritik değer ile test değeri karşılaştılarak $H_0$ reddedilememesi ya da reddedilmesi belirlenir."
   ]
  },
  {
   "cell_type": "markdown",
   "metadata": {},
   "source": [
    "#### Hipotez Testinde Örneklem Dağılımını Belirleyen Çeşitler"
   ]
  },
  {
   "cell_type": "markdown",
   "metadata": {},
   "source": [
    "* **1.çeşit :** Populasyon Ortalamasının Hipotez Testi $\\mu$\n",
    "    * Populasyonun varyansı biliniyorken $\\sigma^2$ $\\Rightarrow$ **z tablosu**\n",
    "    * Populasyonun varyansı bilinmiyorken ve n $\\geq$ 30 $\\Rightarrow$ **z tablosu**\n",
    "    * Populasyon varyansı bilinmiyorken ve n $\\leq$ 30 $\\Rightarrow$ **t tablosu**\n",
    "* **2.çeşit :** Populasyon Oranının Hipotez Testi $p$ $\\Rightarrow$ **z tablosu**\n",
    "* **3.çeşit :** Populasyon Varyansının Hipotez Testi $\\sigma^2$ $\\Rightarrow$ **$\\chi^2$ tablosu**\n",
    "* **4.çeşit :** Eşlendirilmiş Gözlemler için Ortalamanın Farkı(Md) Hipotez Testi $\\Rightarrow$ **t tablosu**\n",
    "* **5.çeşit :** Populasyon Ortalamalarının Farkı için Hipotez Testi $\\mu_1 - \\mu_2$ $\\Rightarrow$ **t tablosu**\n",
    "    * Populasyon varyansları biliniyorken ($\\sigma_1^2$,$\\sigma_2^2$) $\\Rightarrow$ **z tablosu**\n",
    "    * Populasyon varyansları bilinmiyorken (Varyanslar eşit kabul edilir) $\\Rightarrow$ **t tablosu**\n",
    "    * Populasyon varyansları bilinmiyorken (Varyanslar eşit kabul edilmemesi) $\\Rightarrow$ **t tablosu**\n",
    "* **6.çeşit :** İki Populasyon Oranının Hipotez Testi $p_1 - p_2$ $\\Rightarrow$ **z tablosu**\n",
    "* **7.çeşit :** İki Populasyon Varyansının Oranı için Hipotez Testi $\\dfrac{\\sigma_1^2}{\\sigma_2^2}$ $\\Rightarrow$ **F tablosu**"
   ]
  },
  {
   "cell_type": "code",
   "execution_count": null,
   "metadata": {},
   "outputs": [],
   "source": []
  }
 ],
 "metadata": {
  "kernelspec": {
   "display_name": "Python 3",
   "language": "python",
   "name": "python3"
  },
  "language_info": {
   "codemirror_mode": {
    "name": "ipython",
    "version": 3
   },
   "file_extension": ".py",
   "mimetype": "text/x-python",
   "name": "python",
   "nbconvert_exporter": "python",
   "pygments_lexer": "ipython3",
   "version": "3.8.5"
  }
 },
 "nbformat": 4,
 "nbformat_minor": 4
}
